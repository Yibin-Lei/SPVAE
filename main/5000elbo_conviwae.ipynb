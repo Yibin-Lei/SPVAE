{
 "cells": [
  {
   "cell_type": "code",
   "execution_count": 1,
   "metadata": {},
   "outputs": [],
   "source": [
    "import glob\n",
    "import pickle\n",
    "import matplotlib.pyplot as plt\n",
    "import os\n",
    "os.environ[\"CUDA_VISIBLE_DEVICES\"] = \"0\"\n",
    "import sys\n",
    "import pandas as pd\n",
    "ROOT_DIR = os.path.abspath(\"..\")\n",
    "sys.path.append(ROOT_DIR)"
   ]
  },
  {
   "cell_type": "code",
   "execution_count": 2,
   "metadata": {
    "scrolled": true
   },
   "outputs": [],
   "source": [
    "from scripts.conviwae import get_evaluation"
   ]
  },
  {
   "cell_type": "code",
   "execution_count": 3,
   "metadata": {
    "scrolled": true
   },
   "outputs": [
    {
     "name": "stdout",
     "output_type": "stream",
     "text": [
      "mnist\n",
      "WARNING:tensorflow:From /Code/SPVAE/data/read_dataset.py:63: shuffle_and_repeat (from tensorflow.contrib.data.python.ops.shuffle_ops) is deprecated and will be removed in a future version.\n",
      "Instructions for updating:\n",
      "Use `tf.data.experimental.shuffle_and_repeat(...)`.\n",
      "128 10000.0 10000.0\n",
      "(?, 784)\n",
      "(?, 28, 28, 1)\n",
      "(?, 14, 14, 32)\n",
      "(?, 7, 7, 64)\n",
      "(?, 3136)\n",
      "(?, 64)\n",
      "(?, 200)\n",
      "<tf.Variable 'Variable:0' shape=() dtype=int32_ref> Tensor(\"strided_slice:0\", shape=(), dtype=int32) 200\n",
      "zs (?, ?, 200)\n",
      "(?, ?, 200)\n",
      "(?, ?, 3136)\n",
      "(?, 7, 7, 64)\n",
      "(?, 14, 14, 32)\n",
      "(<tf.Variable 'Variable:0' shape=() dtype=int32_ref>, <tf.Tensor 'strided_slice:0' shape=() dtype=int32>, 14, 14, 1)\n",
      "mean_activation: (?, ?, 28, 28, 1)\n",
      "mean_activation: (?, ?, 28, 28, 1)\n",
      "sigma_activation: (?, 28, 28, 1)\n",
      "sigma_activation: (?, ?, 28, 28, 1)\n",
      "sigma_activation: (?, ?, 28, 28, 1)\n",
      "INFO:tensorflow:Restoring parameters from conviwae/mnist_perturbed/-1/1557516816/saved_models/model.ckpt-23808\n",
      "999          \r"
     ]
    },
    {
     "data": {
      "text/plain": [
       "2907.411"
      ]
     },
     "execution_count": 3,
     "metadata": {},
     "output_type": "execute_result"
    }
   ],
   "source": [
    "save_dir = \"conviwae/mnist_perturbed/-1/1557516816/\"\n",
    "get_evaluation(save_dir, {'take_frac':1, 'kernel_size':(3,3), 'data_dir':os.path.join(ROOT_DIR, \"data\")})"
   ]
  },
  {
   "cell_type": "code",
   "execution_count": 4,
   "metadata": {},
   "outputs": [
    {
     "name": "stdout",
     "output_type": "stream",
     "text": [
      "mnist\n",
      "128 10000.0 10000.0\n",
      "(?, 784)\n",
      "(?, 28, 28, 1)\n",
      "(?, 14, 14, 32)\n",
      "(?, 7, 7, 64)\n",
      "(?, 3136)\n",
      "(?, 64)\n",
      "(?, 100)\n",
      "<tf.Variable 'Variable:0' shape=() dtype=int32_ref> Tensor(\"strided_slice:0\", shape=(), dtype=int32) 100\n",
      "zs (?, ?, 100)\n",
      "(?, ?, 100)\n",
      "(?, ?, 3136)\n",
      "(?, 7, 7, 64)\n",
      "(?, 14, 14, 32)\n",
      "(<tf.Variable 'Variable:0' shape=() dtype=int32_ref>, <tf.Tensor 'strided_slice:0' shape=() dtype=int32>, 14, 14, 32)\n",
      "(<tf.Variable 'Variable:0' shape=() dtype=int32_ref>, <tf.Tensor 'strided_slice:0' shape=() dtype=int32>, 28, 28, 1)\n",
      "(?, ?, 28, 28, 1)\n",
      "(?, ?, 28, 28, 1)\n",
      "INFO:tensorflow:Restoring parameters from conviwae/mnist_discrete/-1/1557520473/saved_models/model.ckpt-22144\n",
      "999          \r"
     ]
    },
    {
     "data": {
      "text/plain": [
       "-2098.5525"
      ]
     },
     "execution_count": 4,
     "metadata": {},
     "output_type": "execute_result"
    }
   ],
   "source": [
    "save_dir = \"conviwae/mnist_discrete/-1/1557520473/\"\n",
    "get_evaluation(save_dir, {'take_frac':1, 'kernel_size':(3,3), 'data_dir':os.path.join(ROOT_DIR, \"data\")})"
   ]
  },
  {
   "cell_type": "code",
   "execution_count": 5,
   "metadata": {},
   "outputs": [
    {
     "name": "stdout",
     "output_type": "stream",
     "text": [
      "svhn\n",
      "128 26032.0 26032.0\n",
      "(?, 1024)\n",
      "(?, 32, 32, 1)\n",
      "(?, 16, 16, 32)\n",
      "(?, 8, 8, 64)\n",
      "(?, 4096)\n",
      "(?, 128)\n",
      "(?, 150)\n",
      "<tf.Variable 'Variable:0' shape=() dtype=int32_ref> Tensor(\"strided_slice:0\", shape=(), dtype=int32) 150\n",
      "zs (?, ?, 150)\n",
      "(?, ?, 150)\n",
      "(?, ?, 4096)\n",
      "(?, 8, 8, 64)\n",
      "(?, 16, 16, 32)\n",
      "(<tf.Variable 'Variable:0' shape=() dtype=int32_ref>, <tf.Tensor 'strided_slice:0' shape=() dtype=int32>, 16, 16, 1)\n",
      "mean_activation: (?, ?, 32, 32, 1)\n",
      "mean_activation: (?, ?, 32, 32, 1)\n",
      "sigma_activation: (?, 32, 32, 1)\n",
      "sigma_activation: (?, ?, 32, 32, 1)\n",
      "sigma_activation: (?, ?, 32, 32, 1)\n",
      "INFO:tensorflow:Restoring parameters from conviwae/svhn_perturbed/-1/1557556148/saved_models/model.ckpt-30720\n",
      "2602          \r"
     ]
    },
    {
     "data": {
      "text/plain": [
       "1896.1324"
      ]
     },
     "execution_count": 5,
     "metadata": {},
     "output_type": "execute_result"
    }
   ],
   "source": [
    "save_dir = \"conviwae/svhn_perturbed/-1/1557556148/\"\n",
    "get_evaluation(save_dir, {'take_frac':1, 'kernel_size':(3,3), 'data_dir':os.path.join(ROOT_DIR, \"data\")})"
   ]
  },
  {
   "cell_type": "code",
   "execution_count": null,
   "metadata": {},
   "outputs": [
    {
     "name": "stdout",
     "output_type": "stream",
     "text": [
      "svhn\n",
      "WARNING:tensorflow:From /Code/SPVAE/data/read_dataset.py:63: shuffle_and_repeat (from tensorflow.contrib.data.python.ops.shuffle_ops) is deprecated and will be removed in a future version.\n",
      "Instructions for updating:\n",
      "Use `tf.data.experimental.shuffle_and_repeat(...)`.\n",
      "128 26032.0 26032.0\n",
      "(?, 1024)\n",
      "(?, 32, 32, 1)\n",
      "(?, 16, 16, 32)\n",
      "(?, 8, 8, 64)\n",
      "(?, 4096)\n",
      "(?, 32)\n",
      "(?, 200)\n",
      "<tf.Variable 'Variable:0' shape=() dtype=int32_ref> Tensor(\"strided_slice:0\", shape=(), dtype=int32) 200\n",
      "zs (?, ?, 200)\n",
      "(?, ?, 200)\n",
      "(?, ?, 4096)\n",
      "(?, 8, 8, 64)\n",
      "(?, 16, 16, 32)\n",
      "(<tf.Variable 'Variable:0' shape=() dtype=int32_ref>, <tf.Tensor 'strided_slice:0' shape=() dtype=int32>, 16, 16, 32)\n",
      "(<tf.Variable 'Variable:0' shape=() dtype=int32_ref>, <tf.Tensor 'strided_slice:0' shape=() dtype=int32>, 32, 32, 1)\n",
      "(?, ?, 32, 32, 1)\n",
      "(?, ?, 32, 32, 1)\n",
      "INFO:tensorflow:Restoring parameters from conviwae/svhn_discrete/-1/1557594882/saved_models/model.ckpt-5632\n",
      "1954          \r"
     ]
    }
   ],
   "source": [
    "save_dir = \"conviwae/svhn_discrete/-1/1557594882/\"\n",
    "get_evaluation(save_dir, {'take_frac':1, 'kernel_size':(3,3), 'data_dir':os.path.join(ROOT_DIR, \"data\")})"
   ]
  },
  {
   "cell_type": "code",
   "execution_count": 7,
   "metadata": {},
   "outputs": [
    {
     "name": "stdout",
     "output_type": "stream",
     "text": [
      "cifar10\n",
      "128 10000.0 10000.0\n",
      "(?, 1024)\n",
      "(?, 32, 32, 1)\n",
      "(?, 16, 16, 32)\n",
      "(?, 8, 8, 64)\n",
      "(?, 4096)\n",
      "(?, 128)\n",
      "(?, 150)\n",
      "<tf.Variable 'Variable:0' shape=() dtype=int32_ref> Tensor(\"strided_slice:0\", shape=(), dtype=int32) 150\n",
      "zs (?, ?, 150)\n",
      "(?, ?, 150)\n",
      "(?, ?, 4096)\n",
      "(?, 8, 8, 64)\n",
      "(?, 16, 16, 32)\n",
      "(<tf.Variable 'Variable:0' shape=() dtype=int32_ref>, <tf.Tensor 'strided_slice:0' shape=() dtype=int32>, 16, 16, 1)\n",
      "mean_activation: (?, ?, 32, 32, 1)\n",
      "mean_activation: (?, ?, 32, 32, 1)\n",
      "sigma_activation: (?, 32, 32, 1)\n",
      "sigma_activation: (?, ?, 32, 32, 1)\n",
      "sigma_activation: (?, ?, 32, 32, 1)\n",
      "INFO:tensorflow:Restoring parameters from conviwae/cifar10_perturbed/-1/1557526198/saved_models/model.ckpt-21760\n",
      "999          \r"
     ]
    },
    {
     "data": {
      "text/plain": [
       "1190.6377"
      ]
     },
     "execution_count": 7,
     "metadata": {},
     "output_type": "execute_result"
    }
   ],
   "source": [
    "save_dir = \"conviwae/cifar10_perturbed/-1/1557526198/\"\n",
    "get_evaluation(save_dir, {'take_frac':1, 'kernel_size':(3,3), 'data_dir':os.path.join(ROOT_DIR, \"data\")})"
   ]
  },
  {
   "cell_type": "code",
   "execution_count": 8,
   "metadata": {},
   "outputs": [
    {
     "name": "stdout",
     "output_type": "stream",
     "text": [
      "cifar10\n",
      "128 10000.0 10000.0\n",
      "(?, 1024)\n",
      "(?, 32, 32, 1)\n",
      "(?, 16, 16, 32)\n",
      "(?, 8, 8, 64)\n",
      "(?, 4096)\n",
      "(?, 128)\n",
      "(?, 150)\n",
      "<tf.Variable 'Variable:0' shape=() dtype=int32_ref> Tensor(\"strided_slice:0\", shape=(), dtype=int32) 150\n",
      "zs (?, ?, 150)\n",
      "(?, ?, 150)\n",
      "(?, ?, 4096)\n",
      "(?, 8, 8, 64)\n",
      "(?, 16, 16, 32)\n",
      "(<tf.Variable 'Variable:0' shape=() dtype=int32_ref>, <tf.Tensor 'strided_slice:0' shape=() dtype=int32>, 16, 16, 32)\n",
      "(<tf.Variable 'Variable:0' shape=() dtype=int32_ref>, <tf.Tensor 'strided_slice:0' shape=() dtype=int32>, 32, 32, 1)\n",
      "(?, ?, 32, 32, 1)\n",
      "(?, ?, 32, 32, 1)\n",
      "INFO:tensorflow:Restoring parameters from conviwae/cifar10_discrete/-1/1557530020/saved_models/model.ckpt-14464\n",
      "999          \r"
     ]
    },
    {
     "data": {
      "text/plain": [
       "-6751.936"
      ]
     },
     "execution_count": 8,
     "metadata": {},
     "output_type": "execute_result"
    }
   ],
   "source": [
    "save_dir = \"conviwae/cifar10_discrete/-1/1557530020/\"\n",
    "get_evaluation(save_dir, {'take_frac':1, 'kernel_size':(3,3), 'data_dir':os.path.join(ROOT_DIR, \"data\")})"
   ]
  },
  {
   "cell_type": "code",
   "execution_count": null,
   "metadata": {},
   "outputs": [],
   "source": []
  }
 ],
 "metadata": {
  "kernelspec": {
   "display_name": "Python 3",
   "language": "python",
   "name": "python3"
  },
  "language_info": {
   "codemirror_mode": {
    "name": "ipython",
    "version": 3
   },
   "file_extension": ".py",
   "mimetype": "text/x-python",
   "name": "python",
   "nbconvert_exporter": "python",
   "pygments_lexer": "ipython3",
   "version": "3.5.2"
  }
 },
 "nbformat": 4,
 "nbformat_minor": 2
}
