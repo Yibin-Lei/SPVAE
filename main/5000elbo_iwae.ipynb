{
 "cells": [
  {
   "cell_type": "code",
   "execution_count": 1,
   "metadata": {},
   "outputs": [],
   "source": [
    "import glob\n",
    "import pickle\n",
    "import matplotlib.pyplot as plt\n",
    "import os\n",
    "os.environ[\"CUDA_VISIBLE_DEVICES\"] = \"1\"\n",
    "import sys\n",
    "import pandas as pd\n",
    "ROOT_DIR = os.path.abspath(\"..\")\n",
    "sys.path.append(ROOT_DIR)"
   ]
  },
  {
   "cell_type": "code",
   "execution_count": 2,
   "metadata": {
    "scrolled": true
   },
   "outputs": [],
   "source": [
    "from scripts.iwae import get_evaluation"
   ]
  },
  {
   "cell_type": "code",
   "execution_count": 3,
   "metadata": {
    "scrolled": true
   },
   "outputs": [
    {
     "name": "stdout",
     "output_type": "stream",
     "text": [
      "mnist\n",
      "WARNING:tensorflow:From /Code/SPVAE/data/read_dataset.py:63: shuffle_and_repeat (from tensorflow.contrib.data.python.ops.shuffle_ops) is deprecated and will be removed in a future version.\n",
      "Instructions for updating:\n",
      "Use `tf.data.experimental.shuffle_and_repeat(...)`.\n",
      "128 10000.0 10000.0\n",
      "INFO:tensorflow:Restoring parameters from iwae/mnist_perturbed/-1/1557245411/saved_models/model.ckpt-14080\n",
      "999          \r"
     ]
    },
    {
     "data": {
      "text/plain": [
       "2598.132"
      ]
     },
     "execution_count": 3,
     "metadata": {},
     "output_type": "execute_result"
    }
   ],
   "source": [
    "save_dir = \"iwae/mnist_perturbed/-1/1557245411\"\n",
    "get_evaluation(save_dir, {'take_frac':1, 'data_dir':os.path.join(ROOT_DIR, \"data\")})"
   ]
  },
  {
   "cell_type": "code",
   "execution_count": 4,
   "metadata": {
    "scrolled": true
   },
   "outputs": [
    {
     "name": "stdout",
     "output_type": "stream",
     "text": [
      "mnist\n",
      "128 10000.0 10000.0\n",
      "INFO:tensorflow:Restoring parameters from iwae/mnist_discrete/-1/1557254536/saved_models/model.ckpt-16896\n",
      "999          \r"
     ]
    },
    {
     "data": {
      "text/plain": [
       "-2351.1892"
      ]
     },
     "execution_count": 4,
     "metadata": {},
     "output_type": "execute_result"
    }
   ],
   "source": [
    "save_dir = \"iwae/mnist_discrete/-1/1557254536/\"\n",
    "get_evaluation(save_dir, {'take_frac':1, 'data_dir':os.path.join(ROOT_DIR, \"data\")})"
   ]
  },
  {
   "cell_type": "code",
   "execution_count": 5,
   "metadata": {
    "scrolled": true
   },
   "outputs": [
    {
     "name": "stdout",
     "output_type": "stream",
     "text": [
      "svhn\n",
      "128 26032.0 26032.0\n",
      "INFO:tensorflow:Restoring parameters from iwae/svhn_perturbed/-1/1557263752/saved_models/model.ckpt-20352\n",
      "2602          \r"
     ]
    },
    {
     "data": {
      "text/plain": [
       "1441.6033"
      ]
     },
     "execution_count": 5,
     "metadata": {},
     "output_type": "execute_result"
    }
   ],
   "source": [
    "save_dir = \"iwae/svhn_perturbed/-1/1557263752/\"\n",
    "get_evaluation(save_dir, {'take_frac':1, 'data_dir':os.path.join(ROOT_DIR, \"data\")})"
   ]
  },
  {
   "cell_type": "code",
   "execution_count": 6,
   "metadata": {
    "scrolled": true
   },
   "outputs": [
    {
     "name": "stdout",
     "output_type": "stream",
     "text": [
      "svhn\n",
      "128 26032.0 26032.0\n",
      "INFO:tensorflow:Restoring parameters from iwae/svhn_discrete/-1/1557277937/saved_models/model.ckpt-19456\n",
      "2602          \r"
     ]
    },
    {
     "data": {
      "text/plain": [
       "-4965.4805"
      ]
     },
     "execution_count": 6,
     "metadata": {},
     "output_type": "execute_result"
    }
   ],
   "source": [
    "save_dir = \"iwae/svhn_discrete/-1/1557277937/\"\n",
    "get_evaluation(save_dir, {'take_frac':1, 'data_dir':os.path.join(ROOT_DIR, \"data\")})"
   ]
  },
  {
   "cell_type": "code",
   "execution_count": 7,
   "metadata": {
    "scrolled": true
   },
   "outputs": [
    {
     "name": "stdout",
     "output_type": "stream",
     "text": [
      "cifar10\n",
      "128 10000.0 10000.0\n",
      "INFO:tensorflow:Restoring parameters from iwae/cifar10_perturbed/-1/1557500179/saved_models/model.ckpt-13952\n",
      "999          \r"
     ]
    },
    {
     "data": {
      "text/plain": [
       "895.6267"
      ]
     },
     "execution_count": 7,
     "metadata": {},
     "output_type": "execute_result"
    }
   ],
   "source": [
    "save_dir = \"iwae/cifar10_perturbed/-1/1557500179/\"\n",
    "get_evaluation(save_dir, {'take_frac':1, 'data_dir':os.path.join(ROOT_DIR, \"data\")})"
   ]
  },
  {
   "cell_type": "code",
   "execution_count": 8,
   "metadata": {
    "scrolled": true
   },
   "outputs": [
    {
     "name": "stdout",
     "output_type": "stream",
     "text": [
      "cifar10\n",
      "128 10000.0 10000.0\n",
      "INFO:tensorflow:Restoring parameters from iwae/cifar10_discrete/-1/1557519570/saved_models/model.ckpt-19584\n",
      "999          \r"
     ]
    },
    {
     "data": {
      "text/plain": [
       "-7199.6025"
      ]
     },
     "execution_count": 8,
     "metadata": {},
     "output_type": "execute_result"
    }
   ],
   "source": [
    "save_dir = \"iwae/cifar10_discrete/-1/1557519570/\"\n",
    "get_evaluation(save_dir, {'take_frac':1, 'data_dir':os.path.join(ROOT_DIR, \"data\")})"
   ]
  },
  {
   "cell_type": "code",
   "execution_count": null,
   "metadata": {},
   "outputs": [],
   "source": []
  },
  {
   "cell_type": "code",
   "execution_count": null,
   "metadata": {},
   "outputs": [],
   "source": []
  },
  {
   "cell_type": "code",
   "execution_count": null,
   "metadata": {},
   "outputs": [],
   "source": []
  }
 ],
 "metadata": {
  "kernelspec": {
   "display_name": "Python 3",
   "language": "python",
   "name": "python3"
  },
  "language_info": {
   "codemirror_mode": {
    "name": "ipython",
    "version": 3
   },
   "file_extension": ".py",
   "mimetype": "text/x-python",
   "name": "python",
   "nbconvert_exporter": "python",
   "pygments_lexer": "ipython3",
   "version": "3.5.2"
  }
 },
 "nbformat": 4,
 "nbformat_minor": 2
}
