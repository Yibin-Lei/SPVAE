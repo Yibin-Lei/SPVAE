{
 "cells": [
  {
   "cell_type": "code",
   "execution_count": 1,
   "metadata": {},
   "outputs": [],
   "source": [
    "import glob\n",
    "import pickle\n",
    "import matplotlib.pyplot as plt\n",
    "import os\n",
    "os.environ[\"CUDA_VISIBLE_DEVICES\"] = \"1\"\n",
    "import sys\n",
    "import pandas as pd\n",
    "ROOT_DIR = os.path.abspath(\"..\")\n",
    "sys.path.append(ROOT_DIR)"
   ]
  },
  {
   "cell_type": "code",
   "execution_count": 2,
   "metadata": {
    "scrolled": true
   },
   "outputs": [],
   "source": [
    "from scripts.sp_iwae import get_evaluation"
   ]
  },
  {
   "cell_type": "code",
   "execution_count": 3,
   "metadata": {},
   "outputs": [],
   "source": [
    "# best models that are within HPtuning range of paper"
   ]
  },
  {
   "cell_type": "code",
   "execution_count": 4,
   "metadata": {
    "scrolled": true
   },
   "outputs": [
    {
     "name": "stdout",
     "output_type": "stream",
     "text": [
      "mnist\n",
      "WARNING:tensorflow:From /Code/SPVAE/data/read_dataset.py:63: shuffle_and_repeat (from tensorflow.contrib.data.python.ops.shuffle_ops) is deprecated and will be removed in a future version.\n",
      "Instructions for updating:\n",
      "Use `tf.data.experimental.shuffle_and_repeat(...)`.\n",
      "128 10000.0 10000.0\n",
      "start leaf gather\n",
      "start traversal\n",
      "end traversal\n",
      "24 partitions, 24 scopes\n",
      "32 partitions, 16 scopes\n",
      "42 partitions, 17 scopes\n",
      "36 partitions, 12 scopes\n",
      "24 partitions, 6 scopes\n",
      "16 partitions, 4 scopes\n",
      "20 partitions, 4 scopes\n",
      "6 partitions, 1 scopes\n",
      "Building SPN took 15.290691614151001  seconds\n",
      "In total, there are 32 leaf nodes, 167 sum nodes, and 800 product nodes\n",
      "INFO:tensorflow:Restoring parameters from sp_iwae/mnist_perturbed/-1/1556396781/saved_models/model.ckpt-12288\n",
      "999          \r"
     ]
    },
    {
     "data": {
      "text/plain": [
       "2819.2212"
      ]
     },
     "execution_count": 4,
     "metadata": {},
     "output_type": "execute_result"
    }
   ],
   "source": [
    "save_dir = \"sp_iwae/mnist_perturbed/-1/1556396781/\"\n",
    "get_evaluation(save_dir, {'take_frac':1, 'data_dir':os.path.join(ROOT_DIR, \"data\")})"
   ]
  },
  {
   "cell_type": "code",
   "execution_count": 5,
   "metadata": {
    "scrolled": true
   },
   "outputs": [
    {
     "name": "stdout",
     "output_type": "stream",
     "text": [
      "mnist\n",
      "128 10000.0 10000.0\n",
      "start leaf gather\n",
      "start traversal\n",
      "end traversal\n",
      "24 partitions, 24 scopes\n",
      "32 partitions, 16 scopes\n",
      "42 partitions, 17 scopes\n",
      "36 partitions, 12 scopes\n",
      "24 partitions, 6 scopes\n",
      "16 partitions, 4 scopes\n",
      "20 partitions, 4 scopes\n",
      "6 partitions, 1 scopes\n",
      "Building SPN took 8.430273294448853  seconds\n",
      "In total, there are 32 leaf nodes, 167 sum nodes, and 800 product nodes\n",
      "INFO:tensorflow:Restoring parameters from sp_iwae/mnist_discrete/-1/1556420609/saved_models/model.ckpt-18432\n",
      "999          \r"
     ]
    },
    {
     "data": {
      "text/plain": [
       "-1532.25"
      ]
     },
     "execution_count": 5,
     "metadata": {},
     "output_type": "execute_result"
    }
   ],
   "source": [
    "save_dir = \"sp_iwae/mnist_discrete/-1/1556420609/\"\n",
    "get_evaluation(save_dir, {'take_frac':1, 'data_dir':os.path.join(ROOT_DIR, \"data\")})"
   ]
  },
  {
   "cell_type": "code",
   "execution_count": 6,
   "metadata": {
    "scrolled": true
   },
   "outputs": [
    {
     "name": "stdout",
     "output_type": "stream",
     "text": [
      "svhn\n",
      "128 26032.0 26032.0\n",
      "start leaf gather\n",
      "start traversal\n",
      "end traversal\n",
      "24 partitions, 24 scopes\n",
      "32 partitions, 16 scopes\n",
      "42 partitions, 17 scopes\n",
      "36 partitions, 12 scopes\n",
      "24 partitions, 6 scopes\n",
      "16 partitions, 4 scopes\n",
      "20 partitions, 4 scopes\n",
      "6 partitions, 1 scopes\n",
      "Building SPN took 8.112966299057007  seconds\n",
      "In total, there are 32 leaf nodes, 167 sum nodes, and 800 product nodes\n",
      "INFO:tensorflow:Restoring parameters from sp_iwae/svhn_discrete/-1/1556517866/saved_models/model.ckpt-10496\n",
      "2602          \r"
     ]
    },
    {
     "data": {
      "text/plain": [
       "-3890.702"
      ]
     },
     "execution_count": 6,
     "metadata": {},
     "output_type": "execute_result"
    }
   ],
   "source": [
    "save_dir = \"sp_iwae/svhn_discrete/-1/1556517866/\"\n",
    "get_evaluation(save_dir, {'take_frac':1, 'data_dir':os.path.join(ROOT_DIR, \"data\")})"
   ]
  },
  {
   "cell_type": "code",
   "execution_count": 7,
   "metadata": {
    "scrolled": true
   },
   "outputs": [
    {
     "name": "stdout",
     "output_type": "stream",
     "text": [
      "svhn\n",
      "128 26032.0 26032.0\n",
      "start leaf gather\n",
      "start traversal\n",
      "end traversal\n",
      "24 partitions, 24 scopes\n",
      "32 partitions, 16 scopes\n",
      "42 partitions, 17 scopes\n",
      "36 partitions, 12 scopes\n",
      "24 partitions, 6 scopes\n",
      "16 partitions, 4 scopes\n",
      "20 partitions, 4 scopes\n",
      "6 partitions, 1 scopes\n",
      "Building SPN took 11.201695680618286  seconds\n",
      "In total, there are 32 leaf nodes, 167 sum nodes, and 800 product nodes\n",
      "INFO:tensorflow:Restoring parameters from sp_iwae/svhn_perturbed/-1/1557447509/saved_models/model.ckpt-25600\n",
      "2602          \r"
     ]
    },
    {
     "data": {
      "text/plain": [
       "1936.3949"
      ]
     },
     "execution_count": 7,
     "metadata": {},
     "output_type": "execute_result"
    }
   ],
   "source": [
    "save_dir = \"sp_iwae/svhn_perturbed/-1/1557447509/\"\n",
    "get_evaluation(save_dir, {'take_frac':1, 'data_dir':os.path.join(ROOT_DIR, \"data\")})"
   ]
  },
  {
   "cell_type": "code",
   "execution_count": 8,
   "metadata": {
    "scrolled": true
   },
   "outputs": [
    {
     "name": "stdout",
     "output_type": "stream",
     "text": [
      "cifar10\n",
      "128 10000.0 10000.0\n",
      "start leaf gather\n",
      "start traversal\n",
      "end traversal\n",
      "24 partitions, 24 scopes\n",
      "32 partitions, 16 scopes\n",
      "42 partitions, 17 scopes\n",
      "36 partitions, 12 scopes\n",
      "24 partitions, 6 scopes\n",
      "16 partitions, 4 scopes\n",
      "20 partitions, 4 scopes\n",
      "6 partitions, 1 scopes\n",
      "Building SPN took 6.515846014022827  seconds\n",
      "In total, there are 32 leaf nodes, 167 sum nodes, and 800 product nodes\n",
      "INFO:tensorflow:Restoring parameters from sp_iwae/cifar10_perturbed/-1/1557437252/saved_models/model.ckpt-23680\n",
      "999          \r"
     ]
    },
    {
     "data": {
      "text/plain": [
       "1283.3715"
      ]
     },
     "execution_count": 8,
     "metadata": {},
     "output_type": "execute_result"
    }
   ],
   "source": [
    "save_dir = \"sp_iwae/cifar10_perturbed/-1/1557437252/\"\n",
    "get_evaluation(save_dir, {'take_frac':1, 'data_dir':os.path.join(ROOT_DIR, \"data\")})"
   ]
  },
  {
   "cell_type": "code",
   "execution_count": 10,
   "metadata": {
    "scrolled": true
   },
   "outputs": [
    {
     "name": "stdout",
     "output_type": "stream",
     "text": [
      "cifar10\n",
      "128 10000.0 10000.0\n",
      "start leaf gather\n",
      "start traversal\n",
      "end traversal\n",
      "24 partitions, 24 scopes\n",
      "32 partitions, 16 scopes\n",
      "42 partitions, 17 scopes\n",
      "36 partitions, 12 scopes\n",
      "24 partitions, 6 scopes\n",
      "16 partitions, 4 scopes\n",
      "20 partitions, 4 scopes\n",
      "6 partitions, 1 scopes\n",
      "Building SPN took 9.575194597244263  seconds\n",
      "In total, there are 32 leaf nodes, 167 sum nodes, and 800 product nodes\n",
      "INFO:tensorflow:Restoring parameters from sp_iwae/cifar10_discrete/-1/1556576433/saved_models/model.ckpt-37248\n",
      "999          \r"
     ]
    },
    {
     "data": {
      "text/plain": [
       "-5543.066"
      ]
     },
     "execution_count": 10,
     "metadata": {},
     "output_type": "execute_result"
    }
   ],
   "source": [
    "save_dir = \"sp_iwae/cifar10_discrete/-1/1556576433/\"\n",
    "get_evaluation(save_dir, {'take_frac':1, 'data_dir':os.path.join(ROOT_DIR, \"data\"), \"dataset\":\"cifar10\"})"
   ]
  },
  {
   "cell_type": "code",
   "execution_count": null,
   "metadata": {},
   "outputs": [],
   "source": []
  },
  {
   "cell_type": "code",
   "execution_count": null,
   "metadata": {},
   "outputs": [],
   "source": []
  },
  {
   "cell_type": "code",
   "execution_count": null,
   "metadata": {},
   "outputs": [],
   "source": []
  }
 ],
 "metadata": {
  "kernelspec": {
   "display_name": "Python 3",
   "language": "python",
   "name": "python3"
  },
  "language_info": {
   "codemirror_mode": {
    "name": "ipython",
    "version": 3
   },
   "file_extension": ".py",
   "mimetype": "text/x-python",
   "name": "python",
   "nbconvert_exporter": "python",
   "pygments_lexer": "ipython3",
   "version": "3.5.2"
  }
 },
 "nbformat": 4,
 "nbformat_minor": 2
}
